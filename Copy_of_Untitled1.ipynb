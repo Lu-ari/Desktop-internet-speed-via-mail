{
  "nbformat": 4,
  "nbformat_minor": 0,
  "metadata": {
    "colab": {
      "provenance": [],
      "authorship_tag": "ABX9TyMR1orGVS1My0EqmdYwTS7Z",
      "include_colab_link": true
    },
    "kernelspec": {
      "name": "python3",
      "display_name": "Python 3"
    },
    "language_info": {
      "name": "python"
    }
  },
  "cells": [
    {
      "cell_type": "markdown",
      "metadata": {
        "id": "view-in-github",
        "colab_type": "text"
      },
      "source": [
        "<a href=\"https://colab.research.google.com/github/Lu-ari/Desktop-internet-speed-via-mail/blob/main/Copy_of_Untitled1.ipynb\" target=\"_parent\"><img src=\"https://colab.research.google.com/assets/colab-badge.svg\" alt=\"Open In Colab\"/></a>"
      ]
    },
    {
      "cell_type": "markdown",
      "source": [],
      "metadata": {
        "id": "u9XuiVQhwAVB"
      }
    },
    {
      "cell_type": "markdown",
      "source": [
        "**Menü**\n",
        "\n",
        "![image.png](data:image/png;base64,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)\n",
        "\n",
        "\n",
        "**Soru :**\n",
        "Elçin gittiği kafede bir çeşit tatlı ve bir çeşit içecek siparişi vermek istiyor.Baklava yada künefe yediğinde çay içmediğine ve kahveyi sadece şerbetli tatlılarla tükettiğine göre kaç farklı seçim yapılabilir ?\n",
        "\n",
        "Çözüm #\n",
        "\n",
        "Koşullara göre;\n",
        "\n",
        "*Kahve içerse baklava ve künefe yiyebilir => 2 durum\n",
        "\n",
        "*Çay içerse sütlaç ,puding ve profiterol yiyebilir => 3 durum\n",
        "\n",
        "*Diğer içecekler için bir sınırlama olmadığından =>3 * 5 = 15 durum\n",
        "\n",
        "Toplam = 2+3+15 'den 20 şekilde sipariş verebilir.\n"
      ],
      "metadata": {
        "id": "x_rF4mAztkRo"
      }
    },
    {
      "cell_type": "code",
      "source": [
        "# Tatlı ve içecek seçeneklerini tanımla\n",
        "tatlilar = [\"Sütlaç\", \"Puding\", \"Profiterol\", \"Baklava\", \"Künefe\"]\n",
        "icecekler = [\"Çay\", \"Kahve\", \"Soda\", \"Kola\", \"Limonata\"]\n",
        "\n",
        "# Elçin'in seçimleri için kombinasyonları hesapla\n",
        "secimler = [(t, i) for t in tatlilar for i in icecekler if (t in [\"Baklava\", \"Künefe\"] and i != \"Çay\") or (t not in [\"Baklava\", \"Künefe\"] and i != \"Kahve\")]\n",
        "\n",
        "# Toplam seçenek sayısını hesapla\n",
        "toplam_secim_sayisi = len(secimler)\n",
        "\n",
        "# Sonucu ekrana yazdır\n",
        "print(\"Elçin, {} farklı seçenek arasından seçim yapabilir.\".format(toplam_secim_sayisi))\n",
        "\n"
      ],
      "metadata": {
        "colab": {
          "base_uri": "https://localhost:8080/"
        },
        "id": "9m7h74kN2TZU",
        "outputId": "adf5d4d5-c04e-4d02-cd3f-3980c2817815"
      },
      "execution_count": 5,
      "outputs": [
        {
          "output_type": "stream",
          "name": "stdout",
          "text": [
            "[('Sütlaç', 'Çay'), ('Sütlaç', 'Soda'), ('Sütlaç', 'Kola'), ('Sütlaç', 'Limonata'), ('Puding', 'Çay'), ('Puding', 'Soda'), ('Puding', 'Kola'), ('Puding', 'Limonata'), ('Profiterol', 'Çay'), ('Profiterol', 'Soda'), ('Profiterol', 'Kola'), ('Profiterol', 'Limonata'), ('Baklava', 'Kahve'), ('Baklava', 'Soda'), ('Baklava', 'Kola'), ('Baklava', 'Limonata'), ('Künefe', 'Kahve'), ('Künefe', 'Soda'), ('Künefe', 'Kola'), ('Künefe', 'Limonata')]\n",
            "Elçin, 20 farklı seçenek arasından seçim yapabilir.\n"
          ]
        }
      ]
    }
  ]
}